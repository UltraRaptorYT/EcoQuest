{
 "cells": [
  {
   "cell_type": "code",
   "execution_count": null,
   "metadata": {},
   "outputs": [],
   "source": [
    "from graphviz import Digraph\n",
    "\n",
    "# Create a new directed graph\n",
    "diagram = Digraph('GreenGram_Architecture', filename='greengram_architecture', format='png')\n",
    "\n",
    "# Set graph attributes\n",
    "diagram.attr(rankdir='LR', size='8,5')\n",
    "\n",
    "# Define nodes for each AWS service\n",
    "diagram.node('App', 'Mobile App/Web')\n",
    "diagram.node('API', 'Amazon API Gateway')\n",
    "diagram.node('Lambda', 'AWS Lambda')\n",
    "diagram.node('EC2', 'Amazon EC2 (Upcycle API)')\n",
    "diagram.node('S3-Uploads', 'Amazon S3 (User Uploads)')\n",
    "diagram.node('S3-Upcycled', 'Amazon S3 (Upcycled Images)')\n",
    "diagram.node('DynamoDB', 'Amazon DynamoDB')\n",
    "diagram.node('SNS', 'Amazon SNS')\n",
    "diagram.node('Cognito', 'Amazon Cognito')\n",
    "diagram.node('CloudFront', 'Amazon CloudFront')\n",
    "diagram.node('Rekognition', 'Amazon Rekognition')\n",
    "diagram.node('QuickSight', 'Amazon QuickSight')\n",
    "\n",
    "# Add edges to represent interactions between services\n",
    "diagram.edge('App', 'API', 'User uploads photo/scans QR code')\n",
    "diagram.edge('API', 'Lambda', 'Forward request')\n",
    "diagram.edge('Lambda', 'S3-Uploads', 'Store uploaded photos')\n",
    "diagram.edge('S3-Uploads', 'Lambda', 'Trigger on upload')\n",
    "diagram.edge('Lambda', 'EC2', 'Call Upcycle API')\n",
    "diagram.edge('EC2', 'S3-Upcycled', 'Store generated upcycled images')\n",
    "diagram.edge('S3-Upcycled', 'API', 'Access upcycled images')\n",
    "diagram.edge('Lambda', 'DynamoDB', 'Store/Update user data')\n",
    "diagram.edge('API', 'DynamoDB', 'Validate QR code/Update points')\n",
    "diagram.edge('API', 'App', 'Return upcycled suggestions/recycling instructions')\n",
    "diagram.edge('API', 'SNS', 'Send notifications')\n",
    "diagram.edge('App', 'Cognito', 'User authentication')\n",
    "diagram.edge('Cognito', 'API', 'Verify user tokens')\n",
    "diagram.edge('CloudFront', 'App', 'Deliver static content')\n",
    "diagram.edge('Lambda', 'Rekognition', 'Analyze images (optional)')\n",
    "diagram.edge('Lambda', 'QuickSight', 'Prepare data for analytics (optional)')\n",
    "\n",
    "# Render the diagram\n",
    "diagram.render('/mnt/data/greengram_architecture')\n",
    "import shutil\n",
    "\n",
    "# Move the generated image to a user-friendly filename and path\n",
    "shutil.move('/mnt/data/greengram_architecture.png', '/mnt/data/GreenGram_System_Architecture.png')"
   ]
  }
 ],
 "metadata": {
  "kernelspec": {
   "display_name": ".venv",
   "language": "python",
   "name": "python3"
  },
  "language_info": {
   "name": "python",
   "version": "3.12.1"
  }
 },
 "nbformat": 4,
 "nbformat_minor": 2
}
